{
 "cells": [
  {
   "cell_type": "markdown",
   "source": [
    "# Imports"
   ],
   "metadata": {}
  },
  {
   "cell_type": "code",
   "execution_count": 2,
   "source": [
    "import os\r\n",
    "import pandas as pd\r\n",
    "import random\r\n",
    "import matplotlib.pyplot as plt\r\n",
    "import numpy as np\r\n",
    "import imageio\r\n",
    "import math"
   ],
   "outputs": [],
   "metadata": {}
  },
  {
   "cell_type": "markdown",
   "source": [
    "# Sierpiński gasket\r\n",
    "\r\n",
    "*For more details, rules and analysis, please refer to [README](https://github.com/wielobel/Chaos-Game/blob/main/README.md)"
   ],
   "metadata": {}
  },
  {
   "cell_type": "markdown",
   "source": [
    "##   1. Create initial points of the triangle <br>\r\n",
    "    For simplicy and best effect let's go with the equilateral triangle "
   ],
   "metadata": {}
  },
  {
   "cell_type": "code",
   "execution_count": 3,
   "source": [
    "def equilateral(sp: list, l: int) -> list:\r\n",
    "    \"\"\"\r\n",
    "    Generate points of an equilateral triangle based on:\r\n",
    "    sp: starting point\r\n",
    "    l: desired side lenght\r\n",
    "    \"\"\"\r\n",
    "    Ax = sp[0]\r\n",
    "    Ay = sp[1]\r\n",
    "    Bx = Ax + l\r\n",
    "    By = Ay\r\n",
    "    Cx = (Ax+Bx)/2\r\n",
    "    Cy = math.sqrt(0.75*l**2) + Ay\r\n",
    "\r\n",
    "    return([[Ax, Ay], [Bx, By], [Cx, Cy]])"
   ],
   "outputs": [],
   "metadata": {}
  },
  {
   "cell_type": "code",
   "execution_count": 4,
   "source": [
    "dt = equilateral([20,20],30)\r\n",
    "df = pd.DataFrame(dt, columns = ['x', 'y'])\r\n",
    "p = ['A', 'B', 'C']\r\n",
    "\r\n",
    "fig, ax = plt.subplots(1)\r\n",
    "\r\n",
    "ax.scatter(df.x, df.y, s=2, c = 'black', marker='o')\r\n",
    "for i, x in enumerate(dt):\r\n",
    "    ax.text(x[0]-1, x[1]-1, p[i])\r\n",
    "\r\n",
    "ax.axis('off')"
   ],
   "outputs": [
    {
     "output_type": "execute_result",
     "data": {
      "text/plain": [
       "(18.5, 51.5, 18.700961894323342, 47.27980021920982)"
      ]
     },
     "metadata": {},
     "execution_count": 4
    },
    {
     "output_type": "display_data",
     "data": {
      "image/png": "[encoded data removed]",
      "text/plain": [
       "<Figure size 432x288 with 1 Axes>"
      ]
     },
     "metadata": {
      "needs_background": "light"
     }
    }
   ],
   "metadata": {}
  },
  {
   "cell_type": "markdown",
   "source": [
    "### Our starting points:"
   ],
   "metadata": {}
  },
  {
   "cell_type": "code",
   "execution_count": 5,
   "source": [
    "display(fig)"
   ],
   "outputs": [
    {
     "output_type": "display_data",
     "data": {
      "image/png": "[encoded data removed]",
      "text/plain": [
       "<Figure size 432x288 with 1 Axes>"
      ]
     },
     "metadata": {}
    }
   ],
   "metadata": {}
  },
  {
   "cell_type": "markdown",
   "source": [
    "##   2. Generate points accoring to the chaos game rules <br>\r\n",
    "    Starting in the point A (again, for simplicity)"
   ],
   "metadata": {}
  },
  {
   "cell_type": "code",
   "execution_count": 6,
   "source": [
    "# Create new list based on the original one\r\n",
    "# We are going to add new random points to it\r\n",
    "dt_add = dt\r\n",
    "\r\n",
    "# starting in point A\r\n",
    "position = dt[0]\r\n",
    "\r\n",
    "# generating points\r\n",
    "for i in range(1,10000):\r\n",
    "    x = random.randint(0,2)\r\n",
    "    goingto = dt[x]\r\n",
    "\r\n",
    "    x = (goingto[0]+position[0])/2\r\n",
    "    y = (goingto[1]+position[1])/2\r\n",
    "\r\n",
    "    new_point = [x,y]\r\n",
    "    position = [x,y]\r\n",
    "\r\n",
    "    dt_add.append(new_point)\r\n",
    "\r\n",
    "\r\n",
    "df_add = pd.DataFrame(dt_add, columns = ['x', 'y'])"
   ],
   "outputs": [],
   "metadata": {}
  },
  {
   "cell_type": "markdown",
   "source": [
    "##   3. Create a gif that will show gradual generation of the triangle <br>\r\n",
    "    since we are woring with 10k points of data, one frame of the gif will\r\n",
    "    be created for 10 new/additonal points. The gif itslef will be in 60 fps,\r\n",
    "    so each second 600 new points will appear."
   ],
   "metadata": {}
  },
  {
   "cell_type": "code",
   "execution_count": 7,
   "source": [
    "\r\n",
    "gif_name = 'triangle'\r\n",
    "print('building plots\\n')\r\n",
    "plots = []\r\n",
    "\r\n",
    "for i in range (1,10000,10):\r\n",
    "    dt_temp = dt_add[0:i]    \r\n",
    "    df_temp = pd.DataFrame(dt_temp, columns = ['x', 'y'])\r\n",
    "    plt.scatter(df_temp.x, df_temp.y, s=0.1, c = 'black', marker='o', \\\r\n",
    "        edgecolors='none')\r\n",
    "\r\n",
    "    plot = f'temp/frame_{i}.png'\r\n",
    "    plots.append(plot)\r\n",
    "\r\n",
    "    plt.axis('off')\r\n",
    "    plt.savefig(plot)\r\n",
    "    plt.close()\r\n",
    "\r\n",
    "# Build GIF\r\n",
    "print('creating gif\\n')\r\n",
    "with imageio.get_writer(f'{gif_name}.gif', mode='I',fps=60) as writer:\r\n",
    "    for plot in plots:\r\n",
    "        image = imageio.imread(plot)\r\n",
    "        writer.append_data(image)\r\n",
    "print('gif complete\\n')\r\n",
    "print('Removing Images\\n')\r\n",
    "# Remove files\r\n",
    "for plot in set(plots):\r\n",
    "    os.remove(plot)\r\n",
    "print('done')"
   ],
   "outputs": [
    {
     "output_type": "stream",
     "name": "stdout",
     "text": [
      "building plots\n",
      "\n",
      "creating gif\n",
      "\n",
      "gif complete\n",
      "\n",
      "Removing Images\n",
      "\n",
      "done\n"
     ]
    }
   ],
   "metadata": {}
  },
  {
   "cell_type": "markdown",
   "source": [
    "## 4. Final Result"
   ],
   "metadata": {}
  },
  {
   "cell_type": "code",
   "execution_count": 8,
   "source": [
    "dt_temp = dt_add[0:10000]\r\n",
    "df_temp = pd.DataFrame(dt_temp, columns = ['x', 'y'])\r\n",
    "plt.scatter(df_temp.x, df_temp.y, s=0.1, c = 'black', marker='.')\r\n",
    "plt.axis('off')\r\n",
    "plt.show()"
   ],
   "outputs": [
    {
     "output_type": "display_data",
     "data": {
      "image/png": "[encoded data removed]",
      "text/plain": [
       "<Figure size 432x288 with 1 Axes>"
      ]
     },
     "metadata": {
      "needs_background": "light"
     }
    }
   ],
   "metadata": {}
  },
  {
   "cell_type": "markdown",
   "source": [
    "## 5. Variations of the intial rules: <br>\r\n",
    "    The Sierpiński Gasket is the result of moving half of the way towards\r\n",
    "    random point, however modifying this ratio will create different and\r\n",
    "    interesting results"
   ],
   "metadata": {}
  },
  {
   "cell_type": "code",
   "execution_count": null,
   "source": [],
   "outputs": [],
   "metadata": {}
  },
  {
   "cell_type": "markdown",
   "source": [
    "---------------------------------"
   ],
   "metadata": {}
  },
  {
   "cell_type": "code",
   "execution_count": null,
   "source": [
    "# setting up generator to point us into the right direction (we don't want to\r\n",
    "# end up going to the same point again)\r\n",
    "\r\n",
    "# or do we....\r\n",
    "\r\n",
    "def direction(points):\r\n",
    "    previous_value = None\r\n",
    "    while True:\r\n",
    "        value = random.choice(points)\r\n",
    "        if value != previous_value:\r\n",
    "            yield value\r\n",
    "            previous_value = value\r\n",
    "\r\n",
    "\r\n",
    "\r\n",
    "d = direction([0,1,2])\r\n",
    "for i in range(1):\r\n",
    "    print(next(d))\r\n"
   ],
   "outputs": [],
   "metadata": {}
  },
  {
   "cell_type": "code",
   "execution_count": 9,
   "source": [
    "def make_plots(c:int, s:int):\r\n",
    "    print('building plots\\n')\r\n",
    "    for i in range (1, c , s):\r\n",
    "        dt_temp = dt_add[0:i]    \r\n",
    "        df_temp = pd.DataFrame(dt_temp, columns = ['x', 'y'])\r\n",
    "        plt.scatter(df_temp.x, df_temp.y, s=0.1, c = 'black', marker='o', \\\r\n",
    "            edgecolors='none')\r\n",
    "\r\n",
    "        plot = f'temp/frame_{i}.png'\r\n",
    "        plots.append(plot)\r\n",
    "\r\n",
    "        plt.axis('off')\r\n",
    "        plt.savefig(plot)\r\n",
    "        plt.close()\r\n",
    "\r\n",
    "def make_gif(name):\r\n",
    "    # create gif\r\n",
    "    print('creating gif\\n')\r\n",
    "    with imageio.get_writer(f'{name}.gif', mode='I',fps=60) as writer:\r\n",
    "        for plot in plots:\r\n",
    "            image = imageio.imread(plot)\r\n",
    "            writer.append_data(image)\r\n",
    "    print('gif complete\\n')\r\n",
    "    print('Removing Images\\n')\r\n",
    "    for plot in set(plots):\r\n",
    "        os.remove(plot)\r\n",
    "    print('done')\r\n",
    "\r\n",
    "plots = []\r\n",
    "\r\n",
    "make_plots(1000, 10)\r\n",
    "make_gif('test')"
   ],
   "outputs": [
    {
     "output_type": "stream",
     "name": "stdout",
     "text": [
      "building plots\n",
      "\n",
      "creating gif\n",
      "\n",
      "gif complete\n",
      "\n",
      "Removing Images\n",
      "\n",
      "done\n"
     ]
    }
   ],
   "metadata": {}
  }
 ],
 "metadata": {
  "kernelspec": {
   "name": "python3",
   "display_name": "Python 3.9.7 64-bit ('venv': venv)"
  },
  "language_info": {
   "name": "python",
   "version": "3.9.7",
   "mimetype": "text/x-python",
   "codemirror_mode": {
    "name": "ipython",
    "version": 3
   },
   "pygments_lexer": "ipython3",
   "nbconvert_exporter": "python",
   "file_extension": ".py"
  },
  "interpreter": {
   "hash": "777907dfd30f1584ee3201ab57b6312e4a06232cf408cd49b4ff0a5029138275"
  }
 },
 "nbformat": 4,
 "nbformat_minor": 5
}