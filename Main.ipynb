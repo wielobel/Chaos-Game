{
 "cells": [
  {
   "cell_type": "markdown",
   "source": [
    "# Imports"
   ],
   "metadata": {}
  },
  {
   "cell_type": "code",
   "execution_count": null,
   "source": [
    "import os\r\n",
    "import pandas as pd\r\n",
    "import random\r\n",
    "import matplotlib.pyplot as plt\r\n",
    "import numpy as np\r\n",
    "import imageio\r\n",
    "import math"
   ],
   "outputs": [],
   "metadata": {}
  },
  {
   "cell_type": "markdown",
   "source": [
    "# Sierpiński gasket"
   ],
   "metadata": {}
  },
  {
   "cell_type": "markdown",
   "source": [
    "##   1. Create initial points of the triangle <br>\r\n",
    "    For simplicy and best effect let's go with the equilateral triangle "
   ],
   "metadata": {}
  },
  {
   "cell_type": "code",
   "execution_count": null,
   "source": [
    "def equilateral(sp: list, l: int) -> list:\r\n",
    "    \"\"\"\r\n",
    "    Generate points of an equilateral triangle based on:\r\n",
    "    sp: starting point\r\n",
    "    l: desired side lenght\r\n",
    "    \"\"\"\r\n",
    "    Ax = sp[0]\r\n",
    "    Ay = sp[1]\r\n",
    "    Bx = Ax + l\r\n",
    "    By = Ay\r\n",
    "    Cx = (Ax+Bx)/2\r\n",
    "    Cy = math.sqrt(0.75*l**2) + Ay\r\n",
    "\r\n",
    "    return([[Ax, Ay], [Bx, By], [Cx, Cy]])"
   ],
   "outputs": [],
   "metadata": {}
  },
  {
   "cell_type": "code",
   "execution_count": null,
   "source": [
    "dt = equilateral([20,20],30)\r\n",
    "df = pd.DataFrame(dt, columns = ['x', 'y'])\r\n",
    "p = ['A', 'B', 'C']\r\n",
    "\r\n",
    "fig, ax = plt.subplots(1)\r\n",
    "\r\n",
    "ax.scatter(df.x, df.y, s=2, c = 'black', marker='o')\r\n",
    "for i, x in enumerate(dt):\r\n",
    "    ax.text(x[0]-1, x[1]-1, p[i])\r\n",
    "\r\n",
    "ax.axis('off')"
   ],
   "outputs": [],
   "metadata": {}
  },
  {
   "cell_type": "markdown",
   "source": [
    "### Our starting points:"
   ],
   "metadata": {}
  },
  {
   "cell_type": "code",
   "execution_count": 65,
   "source": [
    "display(fig)"
   ],
   "outputs": [
    {
     "output_type": "display_data",
     "data": {
      "text/plain": [
       "<Figure size 432x288 with 1 Axes>"
      ],
      "image/svg+xml": "<?xml version=\"1.0\" encoding=\"utf-8\" standalone=\"no\"?>\r\n<!DOCTYPE svg PUBLIC \"-//W3C//DTD SVG 1.1//EN\"\r\n  \"http://www.w3.org/Graphics/SVG/1.1/DTD/svg11.dtd\">\r\n<svg height=\"231.84pt\" version=\"1.1\" viewBox=\"0 0 349.2 231.84\" width=\"349.2pt\" xmlns=\"http://www.w3.org/2000/svg\" xmlns:xlink=\"http://www.w3.org/1999/xlink\">\r\n <metadata>\r\n  <rdf:RDF xmlns:cc=\"http://creativecommons.org/ns#\" xmlns:dc=\"http://purl.org/dc/elements/1.1/\" xmlns:rdf=\"http://www.w3.org/1999/02/22-rdf-syntax-ns#\">\r\n   <cc:Work>\r\n    <dc:type rdf:resource=\"http://purl.org/dc/dcmitype/StillImage\"/>\r\n    <dc:date>2021-09-02T11:07:11.495171</dc:date>\r\n    <dc:format>image/svg+xml</dc:format>\r\n    <dc:creator>\r\n     <cc:Agent>\r\n      <dc:title>Matplotlib v3.4.3, https://matplotlib.org/</dc:title>\r\n     </cc:Agent>\r\n    </dc:creator>\r\n   </cc:Work>\r\n  </rdf:RDF>\r\n </metadata>\r\n <defs>\r\n  <style type=\"text/css\">*{stroke-linecap:butt;stroke-linejoin:round;}</style>\r\n </defs>\r\n <g id=\"figure_1\">\r\n  <g id=\"patch_1\">\r\n   <path d=\"M 0 231.84 \r\nL 349.2 231.84 \r\nL 349.2 0 \r\nL 0 0 \r\nz\r\n\" style=\"fill:none;\"/>\r\n  </g>\r\n  <g id=\"axes_1\">\r\n   <g id=\"PathCollection_1\">\r\n    <defs>\r\n     <path d=\"M 0 0.707107 \r\nC 0.187527 0.707107 0.367398 0.632602 0.5 0.5 \r\nC 0.632602 0.367398 0.707107 0.187527 0.707107 0 \r\nC 0.707107 -0.187527 0.632602 -0.367398 0.5 -0.5 \r\nC 0.367398 -0.632602 0.187527 -0.707107 0 -0.707107 \r\nC -0.187527 -0.707107 -0.367398 -0.632602 -0.5 -0.5 \r\nC -0.632602 -0.367398 -0.707107 -0.187527 -0.707107 0 \r\nC -0.707107 0.187527 -0.632602 0.367398 -0.5 0.5 \r\nC -0.367398 0.632602 -0.187527 0.707107 0 0.707107 \r\nz\r\n\" id=\"m4b5105589e\" style=\"stroke:#000000;\"/>\r\n    </defs>\r\n    <g clip-path=\"url(#pf3a4285c30)\">\r\n     <use style=\"stroke:#000000;\" x=\"22.418182\" xlink:href=\"#m4b5105589e\" y=\"214.756364\"/>\r\n     <use style=\"stroke:#000000;\" x=\"326.781818\" xlink:href=\"#m4b5105589e\" y=\"214.756364\"/>\r\n     <use style=\"stroke:#000000;\" x=\"174.6\" xlink:href=\"#m4b5105589e\" y=\"17.083636\"/>\r\n    </g>\r\n   </g>\r\n   <g id=\"text_1\">\r\n    <!-- A -->\r\n    <g transform=\"translate(12.272727 222.36479)scale(0.1 -0.1)\">\r\n     <defs>\r\n      <path d=\"M 2188 4044 \r\nL 1331 1722 \r\nL 3047 1722 \r\nL 2188 4044 \r\nz\r\nM 1831 4666 \r\nL 2547 4666 \r\nL 4325 0 \r\nL 3669 0 \r\nL 3244 1197 \r\nL 1141 1197 \r\nL 716 0 \r\nL 50 0 \r\nL 1831 4666 \r\nz\r\n\" id=\"DejaVuSans-41\" transform=\"scale(0.015625)\"/>\r\n     </defs>\r\n     <use xlink:href=\"#DejaVuSans-41\"/>\r\n    </g>\r\n   </g>\r\n   <g id=\"text_2\">\r\n    <!-- B -->\r\n    <g transform=\"translate(316.636364 222.36479)scale(0.1 -0.1)\">\r\n     <defs>\r\n      <path d=\"M 1259 2228 \r\nL 1259 519 \r\nL 2272 519 \r\nQ 2781 519 3026 730 \r\nQ 3272 941 3272 1375 \r\nQ 3272 1813 3026 2020 \r\nQ 2781 2228 2272 2228 \r\nL 1259 2228 \r\nz\r\nM 1259 4147 \r\nL 1259 2741 \r\nL 2194 2741 \r\nQ 2656 2741 2882 2914 \r\nQ 3109 3088 3109 3444 \r\nQ 3109 3797 2882 3972 \r\nQ 2656 4147 2194 4147 \r\nL 1259 4147 \r\nz\r\nM 628 4666 \r\nL 2241 4666 \r\nQ 2963 4666 3353 4366 \r\nQ 3744 4066 3744 3513 \r\nQ 3744 3084 3544 2831 \r\nQ 3344 2578 2956 2516 \r\nQ 3422 2416 3680 2098 \r\nQ 3938 1781 3938 1306 \r\nQ 3938 681 3513 340 \r\nQ 3088 0 2303 0 \r\nL 628 0 \r\nL 628 4666 \r\nz\r\n\" id=\"DejaVuSans-42\" transform=\"scale(0.015625)\"/>\r\n     </defs>\r\n     <use xlink:href=\"#DejaVuSans-42\"/>\r\n    </g>\r\n   </g>\r\n   <g id=\"text_3\">\r\n    <!-- C -->\r\n    <g transform=\"translate(164.454545 24.692063)scale(0.1 -0.1)\">\r\n     <defs>\r\n      <path d=\"M 4122 4306 \r\nL 4122 3641 \r\nQ 3803 3938 3442 4084 \r\nQ 3081 4231 2675 4231 \r\nQ 1875 4231 1450 3742 \r\nQ 1025 3253 1025 2328 \r\nQ 1025 1406 1450 917 \r\nQ 1875 428 2675 428 \r\nQ 3081 428 3442 575 \r\nQ 3803 722 4122 1019 \r\nL 4122 359 \r\nQ 3791 134 3420 21 \r\nQ 3050 -91 2638 -91 \r\nQ 1578 -91 968 557 \r\nQ 359 1206 359 2328 \r\nQ 359 3453 968 4101 \r\nQ 1578 4750 2638 4750 \r\nQ 3056 4750 3426 4639 \r\nQ 3797 4528 4122 4306 \r\nz\r\n\" id=\"DejaVuSans-43\" transform=\"scale(0.015625)\"/>\r\n     </defs>\r\n     <use xlink:href=\"#DejaVuSans-43\"/>\r\n    </g>\r\n   </g>\r\n  </g>\r\n </g>\r\n <defs>\r\n  <clipPath id=\"pf3a4285c30\">\r\n   <rect height=\"217.44\" width=\"334.8\" x=\"7.2\" y=\"7.2\"/>\r\n  </clipPath>\r\n </defs>\r\n</svg>\r\n",
      "image/png": "[encoded data removed]"
     },
     "metadata": {}
    }
   ],
   "metadata": {}
  },
  {
   "cell_type": "code",
   "execution_count": null,
   "source": [
    "df = pd.DataFrame(dt, columns = ['x', 'y'])\r\n",
    "dt_add = dt"
   ],
   "outputs": [],
   "metadata": {}
  },
  {
   "cell_type": "markdown",
   "source": [
    "ddd"
   ],
   "metadata": {}
  },
  {
   "cell_type": "code",
   "execution_count": null,
   "source": [
    "# setting up generator to point us into the right direction (we don't want to\r\n",
    "# end up going to the same point again)\r\n",
    "\r\n",
    "# or do we....\r\n",
    "\r\n",
    "def direction(points):\r\n",
    "    previous_value = None\r\n",
    "    while True:\r\n",
    "        value = random.choice(points)\r\n",
    "        if value != previous_value:\r\n",
    "            yield value\r\n",
    "            previous_value = value\r\n",
    "\r\n",
    "\r\n",
    "\r\n",
    "d = direction([0,1,2])\r\n",
    "for i in range(1):\r\n",
    "    print(next(d))\r\n"
   ],
   "outputs": [],
   "metadata": {}
  },
  {
   "cell_type": "code",
   "execution_count": null,
   "source": [
    "position = dt[0]\r\n",
    "for i in range(1,100):\r\n",
    "    x = random.randint(0,2)\r\n",
    "    goingto = dt[x]\r\n",
    "\r\n",
    "    x = (goingto[0]+position[0])/2\r\n",
    "    y = (goingto[1]+position[1])/2\r\n",
    "\r\n",
    "    new_point = [x,y]\r\n",
    "    position = [x,y]\r\n",
    "\r\n",
    "    dt_add.append(new_point)\r\n",
    "\r\n",
    "\r\n",
    "df_add = pd.DataFrame(dt_add, columns = ['x', 'y'])\r\n",
    "\r\n",
    "\r\n",
    "    "
   ],
   "outputs": [],
   "metadata": {}
  },
  {
   "cell_type": "code",
   "execution_count": null,
   "source": [
    "plt.scatter(df_add.x, df_add.y, s=0.01, c = 'black')"
   ],
   "outputs": [],
   "metadata": {}
  },
  {
   "cell_type": "code",
   "execution_count": null,
   "source": [
    "dt_add\r\n",
    "gif_name = 'triangle'\r\n",
    "print('building plots\\n')\r\n",
    "filenames = []\r\n",
    "\r\n",
    "for i in range (1,10000,10):\r\n",
    "    dt_temp = dt_add[0:i]\r\n",
    "    df_temp = pd.DataFrame(dt_temp, columns = ['x', 'y'])\r\n",
    "    plt.scatter(df_temp.x, df_temp.y, s=0.1, c = 'black', marker='o', edgecolors='none')\r\n",
    "    # plt.xlim(0,50)\r\n",
    "    # plt.ylim(0,50)\r\n",
    "\r\n",
    "    filename = f'temp/frame_{i}.png'\r\n",
    "    filenames.append(filename)\r\n",
    "\r\n",
    "    plt.axis('off')\r\n",
    "    plt.savefig(filename)\r\n",
    "    plt.close()\r\n",
    "\r\n",
    "# Build GIF\r\n",
    "print('creating gif\\n')\r\n",
    "with imageio.get_writer(f'{gif_name}.gif', mode='I',fps=60) as writer:\r\n",
    "    for filename in filenames:\r\n",
    "        image = imageio.imread(filename)\r\n",
    "        writer.append_data(image)\r\n",
    "print('gif complete\\n')\r\n",
    "print('Removing Images\\n')\r\n",
    "# Remove files\r\n",
    "for filename in set(filenames):\r\n",
    "    os.remove(filename)\r\n",
    "print('done')"
   ],
   "outputs": [],
   "metadata": {}
  },
  {
   "cell_type": "code",
   "execution_count": null,
   "source": [
    "dt_temp = dt_add[0:10000]\r\n",
    "df_temp = pd.DataFrame(dt_temp, columns = ['x', 'y'])\r\n",
    "plt.scatter(df_temp.x, df_temp.y, s=0.1, c = 'black', marker='.')\r\n",
    "plt.axis('off')\r\n",
    "plt.show()"
   ],
   "outputs": [],
   "metadata": {}
  }
 ],
 "metadata": {
  "kernelspec": {
   "name": "python3",
   "display_name": "Python 3.9.6 64-bit ('venv': venv)"
  },
  "language_info": {
   "name": "python",
   "version": "3.9.7",
   "mimetype": "text/x-python",
   "codemirror_mode": {
    "name": "ipython",
    "version": 3
   },
   "pygments_lexer": "ipython3",
   "nbconvert_exporter": "python",
   "file_extension": ".py"
  },
  "interpreter": {
   "hash": "777907dfd30f1584ee3201ab57b6312e4a06232cf408cd49b4ff0a5029138275"
  }
 },
 "nbformat": 4,
 "nbformat_minor": 5
}