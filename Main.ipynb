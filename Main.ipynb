{
 "cells": [
  {
   "cell_type": "markdown",
   "source": [
    "# Imports"
   ],
   "metadata": {}
  },
  {
   "cell_type": "code",
   "execution_count": 2,
   "source": [
    "import os\r\n",
    "import pandas as pd\r\n",
    "import random\r\n",
    "import matplotlib.pyplot as plt\r\n",
    "import numpy as np\r\n",
    "import imageio\r\n",
    "import math"
   ],
   "outputs": [],
   "metadata": {}
  },
  {
   "cell_type": "markdown",
   "source": [
    "# Sierpiński gasket\r\n",
    "\r\n",
    "*For more details, rules and analysis, please refer to [README](https://github.com/wielobel/Chaos-Game/blob/main/README.md)"
   ],
   "metadata": {}
  },
  {
   "cell_type": "markdown",
   "source": [
    "##   1. Create initial points of the triangle <br>\r\n",
    "    For simplicy and best effect let's go with the equilateral triangle "
   ],
   "metadata": {}
  },
  {
   "cell_type": "code",
   "execution_count": 3,
   "source": [
    "def equilateral(sp: list, l: int) -> list:\r\n",
    "    \"\"\"\r\n",
    "    Generate points of an equilateral triangle based on:\r\n",
    "    sp: starting point\r\n",
    "    l: desired side lenght\r\n",
    "    \"\"\"\r\n",
    "    Ax = sp[0]\r\n",
    "    Ay = sp[1]\r\n",
    "    Bx = Ax + l\r\n",
    "    By = Ay\r\n",
    "    Cx = (Ax+Bx)/2\r\n",
    "    Cy = math.sqrt(0.75*l**2) + Ay\r\n",
    "\r\n",
    "    return([[Ax, Ay], [Bx, By], [Cx, Cy]])"
   ],
   "outputs": [],
   "metadata": {}
  },
  {
   "cell_type": "code",
   "execution_count": 4,
   "source": [
    "dt = equilateral([20,20],30)\r\n",
    "df = pd.DataFrame(dt, columns = ['x', 'y'])\r\n",
    "p = ['A', 'B', 'C']\r\n",
    "\r\n",
    "fig, ax = plt.subplots(1)\r\n",
    "\r\n",
    "ax.scatter(df.x, df.y, s=2, c = 'black', marker='o')\r\n",
    "for i, x in enumerate(dt):\r\n",
    "    ax.text(x[0]-1, x[1]-1, p[i])\r\n",
    "\r\n",
    "ax.axis('off')"
   ],
   "outputs": [
    {
     "output_type": "execute_result",
     "data": {
      "text/plain": [
       "(18.5, 51.5, 18.700961894323342, 47.27980021920982)"
      ]
     },
     "metadata": {},
     "execution_count": 4
    },
    {
     "output_type": "display_data",
     "data": {
      "image/png": "[encoded data removed]",
      "text/plain": [
       "<Figure size 432x288 with 1 Axes>"
      ]
     },
     "metadata": {
      "needs_background": "light"
     }
    }
   ],
   "metadata": {}
  },
  {
   "cell_type": "markdown",
   "source": [
    "### Our starting points:"
   ],
   "metadata": {}
  },
  {
   "cell_type": "code",
   "execution_count": 5,
   "source": [
    "display(fig)"
   ],
   "outputs": [
    {
     "output_type": "display_data",
     "data": {
      "image/png": "[encoded data removed]",
      "text/plain": [
       "<Figure size 432x288 with 1 Axes>"
      ]
     },
     "metadata": {}
    }
   ],
   "metadata": {}
  },
  {
   "cell_type": "markdown",
   "source": [
    "##   2. Generate points accoring to the chaos game rules <br>\r\n",
    "    Starting in the point A (again, for simplicity)"
   ],
   "metadata": {}
  },
  {
   "cell_type": "code",
   "execution_count": 6,
   "source": [
    "# Create new list based on the original one\r\n",
    "# We are going to add new random points to it\r\n",
    "dt_add = dt.copy()\r\n",
    "\r\n",
    "# starting in point A\r\n",
    "position = dt[0]\r\n",
    "\r\n",
    "# generating points\r\n",
    "for i in range(1,10000):\r\n",
    "    x = random.randint(0,2)\r\n",
    "    goingto = dt[x]\r\n",
    "\r\n",
    "    x = (goingto[0]+position[0])/2\r\n",
    "    y = (goingto[1]+position[1])/2\r\n",
    "\r\n",
    "    new_point = [x,y]\r\n",
    "    position = [x,y]\r\n",
    "\r\n",
    "    dt_add.append(new_point)\r\n",
    "\r\n",
    "\r\n",
    "df_add = pd.DataFrame(dt_add, columns = ['x', 'y'])"
   ],
   "outputs": [],
   "metadata": {}
  },
  {
   "cell_type": "markdown",
   "source": [
    "##   3. Create a gif that will show gradual generation of the triangle <br>\r\n",
    "    since we are woring with 10k points of data, one frame of the gif will\r\n",
    "    be created for 10 new/additonal points. The gif itslef will be in 60 fps,\r\n",
    "    so each second 600 new points will appear."
   ],
   "metadata": {}
  },
  {
   "cell_type": "code",
   "execution_count": 7,
   "source": [
    "\r\n",
    "gif_name = 'triangle'\r\n",
    "print('building plots\\n')\r\n",
    "plots = []\r\n",
    "\r\n",
    "for i in range (1,10000,10):\r\n",
    "    dt_temp = dt_add[0:i]    \r\n",
    "    df_temp = pd.DataFrame(dt_temp, columns = ['x', 'y'])\r\n",
    "    plt.scatter(df_temp.x, df_temp.y, s=0.1, c = 'black', marker='o', \\\r\n",
    "        edgecolors='none')\r\n",
    "\r\n",
    "    plot = f'temp/frame_{i}.png'\r\n",
    "    plots.append(plot)\r\n",
    "\r\n",
    "    plt.axis('off')\r\n",
    "    plt.savefig(plot)\r\n",
    "    plt.close()\r\n",
    "\r\n",
    "# Build GIF\r\n",
    "print('creating gif\\n')\r\n",
    "with imageio.get_writer(f'{gif_name}.gif', mode='I',fps=60) as writer:\r\n",
    "    for plot in plots:\r\n",
    "        image = imageio.imread(plot)\r\n",
    "        writer.append_data(image)\r\n",
    "print('gif complete\\n')\r\n",
    "print('Removing Images\\n')\r\n",
    "# Remove files\r\n",
    "for plot in set(plots):\r\n",
    "    os.remove(plot)\r\n",
    "print('done')"
   ],
   "outputs": [
    {
     "output_type": "stream",
     "name": "stdout",
     "text": [
      "building plots\n",
      "\n",
      "creating gif\n",
      "\n",
      "gif complete\n",
      "\n",
      "Removing Images\n",
      "\n",
      "done\n"
     ]
    }
   ],
   "metadata": {}
  },
  {
   "cell_type": "markdown",
   "source": [
    "## 4. Final Result"
   ],
   "metadata": {}
  },
  {
   "cell_type": "code",
   "execution_count": 8,
   "source": [
    "dt_temp = dt_add[0:10000]\r\n",
    "df_temp = pd.DataFrame(dt_temp, columns = ['x', 'y'])\r\n",
    "plt.scatter(df_temp.x, df_temp.y, s=0.1, c = 'black', marker='.')\r\n",
    "plt.axis('off')\r\n",
    "plt.show()"
   ],
   "outputs": [
    {
     "output_type": "display_data",
     "data": {
      "image/png": "[encoded data removed]",
      "text/plain": [
       "<Figure size 432x288 with 1 Axes>"
      ]
     },
     "metadata": {
      "needs_background": "light"
     }
    }
   ],
   "metadata": {}
  },
  {
   "cell_type": "markdown",
   "source": [
    "## 5. Variations of the intial rules: <br>\r\n",
    "    The Sierpiński Gasket is the result of moving half of the way towards\r\n",
    "    random point, however modifying this ratio or number of points will \r\n",
    "    create different and interesting results."
   ],
   "metadata": {}
  },
  {
   "cell_type": "code",
   "execution_count": 22,
   "source": [
    "# modifying previously used code to be more flexible:\r\n",
    "\r\n",
    "def triangles(r: int, c: int):\r\n",
    "    # using same set of intial points and starting position\r\n",
    "    dt_t = dt.copy()\r\n",
    "    position = dt[0]\r\n",
    "\r\n",
    "    # generating points\r\n",
    "    for i in range(1,c):\r\n",
    "        x = random.randint(0,2)\r\n",
    "        goingto = dt[x]\r\n",
    "\r\n",
    "        x = (goingto[0]+position[0])/r\r\n",
    "        y = (goingto[1]+position[1])/r\r\n",
    "\r\n",
    "        new_point = [x,y]\r\n",
    "        position = [x,y]\r\n",
    "\r\n",
    "        dt_t.append(new_point)\r\n",
    "    \r\n",
    "    print(dt_t)\r\n",
    "    df_t = pd.DataFrame(dt_t, columns = ['x', 'y'])\r\n",
    "    plt.scatter(df_t.x, df_t.y, s=0.1, c = 'black', marker='.')\r\n",
    "    plt.axis('off')\r\n",
    "    plt.show()"
   ],
   "outputs": [],
   "metadata": {}
  },
  {
   "cell_type": "code",
   "execution_count": 23,
   "source": [
    "triangles(3, 100)"
   ],
   "outputs": [
    {
     "output_type": "stream",
     "name": "stdout",
     "text": [
      "[[20, 20], [50, 20], [35.0, 45.98076211353316], [18.333333333333332, 21.99358737117772], [12.777777777777777, 13.997862457059242], [20.925925925925927, 11.332620819019747], [13.641975308641975, 10.444206939673249], [11.213991769547325, 10.148068979891084], [15.404663923182442, 18.70961036447475], [21.801554641060815, 12.903203454824917], [18.93385154702027, 19.627988522786026], [12.977950515673422, 13.209329507595342], [20.99265017189114, 11.06977650253178], [13.664216723963714, 10.356592167510593], [16.221405574654572, 18.77911809368125], [12.07380185821819, 12.926372697893749], [15.69126728607273, 19.635711603808968], [21.897089095357575, 13.211903867936323], [23.96569636511919, 11.070634622645441], [24.655232121706394, 10.356878207548482], [19.88507737390213, 18.779213440360547], [13.295025791300711, 12.926404480120183], [21.09834193043357, 10.97546816004006], [13.699447310144523, 10.325156053346687], [16.233149103381507, 18.76863938895995], [22.077716367793837, 12.922879796319984], [24.02590545593128, 10.974293265439995], [24.67530181864376, 10.324764421813333], [24.891767272881253, 10.108254807271111], [24.963922424293752, 10.036084935757037], [24.987974141431252, 10.012028311919012], [14.995991380477085, 10.004009437306337], [11.665330460159028, 10.001336479102113], [20.55511015338634, 10.000445493034038], [18.51837005112878, 18.660402535522397], [22.839456683709596, 12.88680084517413], [24.279818894569868, 10.962266948391376], [14.75993963152329, 10.320755649463791], [21.5866465438411, 10.106918549821264], [23.8622155146137, 10.03563951660709], [24.62073850487123, 10.01187983886903], [24.87357950162374, 10.003959946289676], [14.95785983387458, 10.00131998209656], [16.65261994462486, 18.660694031876574], [22.21753998154162, 12.886898010625524], [19.07251332718054, 19.622553374719562], [13.024171109060182, 13.207517791573187], [11.008057036353394, 11.069172597191063], [15.336019012117797, 19.01664490357474], [21.778673004039266, 13.005548301191581], [23.926224334679755, 11.001849433730527], [19.642074778226586, 18.994203849087896], [13.21402492607553, 12.998067949695965], [11.071341642025176, 10.999355983231988], [20.35711388067506, 10.333118661077329], [23.452371293558354, 10.111039553692443], [19.484123764519452, 18.697267222408534], [13.161374588173151, 12.899089074136178], [16.053791529391052, 19.626617062556445], [12.017930509797017, 13.208872354185482], [20.67264350326567, 11.069624118061826], [23.557547834421893, 10.356541372687275], [19.519182611473965, 18.779101162073477], [18.173060870491323, 21.586621091868878], [17.72435362349711, 22.522461068467347], [12.574784541165704, 14.174153689489117], [10.858261513721901, 11.391384563163038], [20.286087171240634, 10.463794854387679], [23.42869572374688, 10.154598284795894], [24.47623190791563, 10.051532761598631], [14.825410635971878, 10.017177587199543], [16.608470211990625, 18.665979900244235], [12.202823403996874, 12.88865996674808], [20.734274467998958, 10.962886655582693], [18.578091489332987, 18.98121625637195], [22.859363829777664, 12.993738752123983], [14.286454609925888, 10.997912917374661], [21.428818203308627, 10.332637639124888], [18.80960606776954, 18.771133250886017], [17.93653535592318, 21.583965121473057], [17.64551178530773, 22.52157574500207], [22.54850392843591, 14.173858581667355], [14.182834642811969, 11.391286193889117], [16.394278214270656, 19.12401610247409], [22.13142607142355, 13.041338700824696], [19.043808690474517, 19.67403360478595], [13.01460289682484, 13.224677868261983], [16.004867632274948, 19.73514666059838], [17.00162254409165, 21.905302924710515], [22.333874181363882, 13.968434308236837], [19.111291393787962, 19.983065473923332], [23.037097131262655, 13.327688491307777], [19.34569904375422, 19.76948353494698], [18.115233014584742, 21.916748549493377], [17.705077671528247, 22.63250355434218], [22.568359223842748, 14.21083451811406], [24.18945307461425, 11.40361150603802], [14.729817691538083, 10.467870502012673], [11.57660589717936, 10.155956834004224], [15.525535299059788, 18.71223964917913], [11.841845099686596, 12.904079883059708], [10.613948366562198, 10.96802662768657]]\n"
     ]
    },
    {
     "output_type": "display_data",
     "data": {
      "image/png": "[encoded data removed]",
      "text/plain": [
       "<Figure size 432x288 with 1 Axes>"
      ]
     },
     "metadata": {
      "needs_background": "light"
     }
    }
   ],
   "metadata": {}
  },
  {
   "cell_type": "markdown",
   "source": [
    "---------------------------------"
   ],
   "metadata": {}
  },
  {
   "cell_type": "code",
   "execution_count": null,
   "source": [
    "# setting up generator to point us into the right direction (we don't want to\r\n",
    "# end up going to the same point again)\r\n",
    "\r\n",
    "# or do we....\r\n",
    "\r\n",
    "def direction(points):\r\n",
    "    previous_value = None\r\n",
    "    while True:\r\n",
    "        value = random.choice(points)\r\n",
    "        if value != previous_value:\r\n",
    "            yield value\r\n",
    "            previous_value = value\r\n",
    "\r\n",
    "\r\n",
    "\r\n",
    "d = direction([0,1,2])\r\n",
    "for i in range(1):\r\n",
    "    print(next(d))\r\n"
   ],
   "outputs": [],
   "metadata": {}
  },
  {
   "cell_type": "code",
   "execution_count": null,
   "source": [],
   "outputs": [],
   "metadata": {}
  }
 ],
 "metadata": {
  "kernelspec": {
   "name": "python3",
   "display_name": "Python 3.9.7 64-bit ('venv': venv)"
  },
  "language_info": {
   "name": "python",
   "version": "3.9.7",
   "mimetype": "text/x-python",
   "codemirror_mode": {
    "name": "ipython",
    "version": 3
   },
   "pygments_lexer": "ipython3",
   "nbconvert_exporter": "python",
   "file_extension": ".py"
  },
  "interpreter": {
   "hash": "777907dfd30f1584ee3201ab57b6312e4a06232cf408cd49b4ff0a5029138275"
  }
 },
 "nbformat": 4,
 "nbformat_minor": 5
}